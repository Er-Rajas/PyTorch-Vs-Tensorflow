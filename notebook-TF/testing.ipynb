{
 "cells": [
  {
   "cell_type": "code",
   "execution_count": 1,
   "id": "0423a671",
   "metadata": {},
   "outputs": [
    {
     "name": "stdout",
     "output_type": "stream",
     "text": [
      "Testing LSTM with simple data...\n",
      "Epoch 1/3\n",
      "32/32 [==============================] - 8s 8ms/step - loss: 0.1320\n",
      "Epoch 2/3\n",
      "32/32 [==============================] - 0s 8ms/step - loss: 0.0857\n",
      "Epoch 3/3\n",
      "32/32 [==============================] - 0s 8ms/step - loss: 0.0841\n",
      "LSTM test completed successfully!\n"
     ]
    }
   ],
   "source": [
    "import tensorflow as tf\n",
    "import numpy as np\n",
    "import os\n",
    "\n",
    "# Set environment for stability\n",
    "os.environ['TF_CPP_MIN_LOG_LEVEL'] = '2'\n",
    "os.environ['TF_FORCE_GPU_ALLOW_GROWTH'] = 'true'\n",
    "\n",
    "# Create simple LSTM test data\n",
    "def create_test_data():\n",
    "    samples = 1000\n",
    "    timesteps = 10\n",
    "    features = 5\n",
    "    X = np.random.random((samples, timesteps, features))\n",
    "    y = np.random.random((samples, 1))\n",
    "    return X, y\n",
    "\n",
    "X_test, y_test = create_test_data()\n",
    "\n",
    "# Create a simple LSTM model\n",
    "model = tf.keras.Sequential([\n",
    "    tf.keras.layers.LSTM(16, input_shape=(10, 5)),\n",
    "    tf.keras.layers.Dense(1)\n",
    "])\n",
    "\n",
    "model.compile(optimizer='adam', loss='mse')\n",
    "\n",
    "print(\"Testing LSTM with simple data...\")\n",
    "try:\n",
    "    history = model.fit(X_test, y_test, epochs=3, batch_size=32, verbose=1)\n",
    "    print(\"LSTM test completed successfully!\")\n",
    "except Exception as e:\n",
    "    print(f\"LSTM test failed: {e}\")\n",
    "    import traceback\n",
    "    traceback.print_exc()"
   ]
  }
 ],
 "metadata": {
  "kernelspec": {
   "display_name": "tf2",
   "language": "python",
   "name": "python3"
  },
  "language_info": {
   "codemirror_mode": {
    "name": "ipython",
    "version": 3
   },
   "file_extension": ".py",
   "mimetype": "text/x-python",
   "name": "python",
   "nbconvert_exporter": "python",
   "pygments_lexer": "ipython3",
   "version": "3.10.18"
  }
 },
 "nbformat": 4,
 "nbformat_minor": 5
}
